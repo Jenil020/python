{
  "cells": [
    {
      "cell_type": "markdown",
      "metadata": {
        "id": "view-in-github",
        "colab_type": "text"
      },
      "source": [
        "<a href=\"https://colab.research.google.com/github/Jenil020/python/blob/main/first.ipynb\" target=\"_parent\"><img src=\"https://colab.research.google.com/assets/colab-badge.svg\" alt=\"Open In Colab\"/></a>"
      ]
    },
    {
      "cell_type": "code",
      "execution_count": null,
      "metadata": {
        "colab": {
          "background_save": true,
          "base_uri": "https://localhost:8080/"
        },
        "id": "Msz13UBemPYP",
        "outputId": "0b0b20b2-c90c-4121-888f-f69aec8a6dc2"
      },
      "outputs": [
        {
          "name": "stdout",
          "output_type": "stream",
          "text": [
            "\n",
            "=== YouTube Video Manager ===\n",
            "1. Add video\n",
            "2. Update video\n",
            "3. Delete video\n",
            "4. List videos\n",
            "5. Exit\n",
            "\n",
            "📺 Saved YouTube Videos:\n",
            "ID: 1, Name: jenil ki notanki, Duration: 2 hour\n",
            "\n",
            "=== YouTube Video Manager ===\n",
            "1. Add video\n",
            "2. Update video\n",
            "3. Delete video\n",
            "4. List videos\n",
            "5. Exit\n"
          ]
        }
      ],
      "source": [
        "#basic crud operation with sqlite built in database\n",
        "import sqlite3\n",
        "\n",
        "# Connect to (or create) the database\n",
        "conn = sqlite3.connect('youtube_videos.db')\n",
        "cursor = conn.cursor()\n",
        "\n",
        "# Create the table if it doesn't exist\n",
        "cursor.execute('''\n",
        "    CREATE TABLE IF NOT EXISTS videos (\n",
        "        id INTEGER PRIMARY KEY AUTOINCREMENT,\n",
        "        name TEXT NOT NULL,\n",
        "        duration TEXT NOT NULL\n",
        "    )\n",
        "''')\n",
        "conn.commit()\n",
        "\n",
        "def add_video():\n",
        "    name = input(\"Enter video name: \")\n",
        "    duration = input(\"Enter video duration (e.g., 5:32): \")\n",
        "    cursor.execute(\"INSERT INTO videos (name, duration) VALUES (?, ?)\", (name, duration))\n",
        "    conn.commit()\n",
        "    print(\" Video added successfully.\")\n",
        "\n",
        "def update_video():\n",
        "    video_id = input(\"Enter the video ID to update: \")\n",
        "    new_name = input(\"Enter new video name: \")\n",
        "    new_duration = input(\"Enter new video duration: \")\n",
        "    cursor.execute(\"UPDATE videos SET name = ?, duration = ? WHERE id = ?\", (new_name, new_duration, video_id))\n",
        "    conn.commit()\n",
        "    print(\" Video updated successfully.\")\n",
        "\n",
        "def delete_video():\n",
        "    video_id = input(\"Enter the video ID to delete: \")\n",
        "    cursor.execute(\"DELETE FROM videos WHERE id = ?\", (video_id,))\n",
        "    conn.commit()\n",
        "    print(\" Video deleted successfully.\")\n",
        "\n",
        "def list_videos():\n",
        "    cursor.execute(\"SELECT id, name, duration FROM videos\")\n",
        "    videos = cursor.fetchall()\n",
        "    if videos:\n",
        "        print(\"\\n📺 Saved YouTube Videos:\")\n",
        "        for vid in videos:\n",
        "            print(f\"ID: {vid[0]}, Name: {vid[1]}, Duration: {vid[2]}\")\n",
        "    else:\n",
        "        print(\" No videos found.\")\n",
        "\n",
        "def main():\n",
        "    while True:\n",
        "        print(\"\\n=== YouTube Video Manager ===\")\n",
        "        print(\"1. Add video\")\n",
        "        print(\"2. Update video\")\n",
        "        print(\"3. Delete video\")\n",
        "        print(\"4. List videos\")\n",
        "        print(\"5. Exit\")\n",
        "        choice = input(\"Choose an option: \")\n",
        "\n",
        "        if choice == '1':\n",
        "            add_video()\n",
        "        elif choice == '2':\n",
        "            update_video()\n",
        "        elif choice == '3':\n",
        "            delete_video()\n",
        "        elif choice == '4':\n",
        "            list_videos()\n",
        "        elif choice == '5':\n",
        "            print(\"👋 Exiting...\")\n",
        "            break\n",
        "        else:\n",
        "            print(\"❗ Invalid choice. Please try again.\")\n",
        "\n",
        "if __name__ == \"__main__\":\n",
        "    main()\n",
        "\n",
        "# Close the connection when done\n",
        "conn.close()\n"
      ]
    },
    {
      "cell_type": "code",
      "execution_count": null,
      "metadata": {
        "colab": {
          "base_uri": "https://localhost:8080/"
        },
        "id": "tBArAKsmSika",
        "outputId": "090c2c6d-8bb5-4330-bcb3-ce6b57157043"
      },
      "outputs": [
        {
          "name": "stdout",
          "output_type": "stream",
          "text": [
            "(4, 3)\n",
            "{(4, 3): 7}\n",
            "7\n",
            "(4, 3)\n",
            "7\n",
            "(7, 3)\n",
            "{(4, 3): 7, (7, 3): 10}\n",
            "10\n"
          ]
        }
      ],
      "source": [
        "# create a decorators that cache function result that take long time for again execute\n",
        "\n",
        "def wrapper(func):\n",
        "  cache = {}\n",
        "  def inner(*args):\n",
        "    print(args)\n",
        "    if args in cache:\n",
        "      return cache[args]\n",
        "    result= func(*args)\n",
        "    cache[args] = result\n",
        "    print(cache)\n",
        "    return result\n",
        "  return inner\n",
        "\n",
        "@wrapper\n",
        "def my_function(a,b):\n",
        "  time.sleep(4)\n",
        "  return a+b\n",
        "\n",
        "print(my_function(4,3))\n",
        "print(my_function(4,3))\n",
        "print(my_function(7,3))"
      ]
    },
    {
      "cell_type": "code",
      "execution_count": null,
      "metadata": {
        "colab": {
          "base_uri": "https://localhost:8080/"
        },
        "id": "-z58tMc-L7Dr",
        "outputId": "b6c3df5b-41fc-45c1-c32e-e9e3b60a2e07"
      },
      "outputs": [
        {
          "name": "stdout",
          "output_type": "stream",
          "text": [
            "Time taken: 2.0001556873321533 seconds\n",
            "function name is : my_function\n",
            "Calling add(1, 2, )\n",
            "add returned 3\n"
          ]
        },
        {
          "data": {
            "text/plain": [
              "3"
            ]
          },
          "execution_count": 10,
          "metadata": {},
          "output_type": "execute_result"
        }
      ],
      "source": [
        "import time\n",
        "\n",
        "def wrapper(func):\n",
        "    def inner(*args, **kwargs):\n",
        "        start = time.time()\n",
        "        result = func(*args, **kwargs)\n",
        "        end = time.time()\n",
        "        print(f\"Time taken: {end - start} seconds\")\n",
        "        print(f\"function name is : {func.__name__}\")\n",
        "        return result\n",
        "    return inner\n",
        "\n",
        "\n",
        "@wrapper           # we create our own decorators and my_function will not execute directly it will pas through wrapper\n",
        "def my_function(n):\n",
        "    time.sleep(n)\n",
        "\n",
        "my_function(2)\n",
        "\n",
        "\n",
        "def debug(func):\n",
        "  def wrapper(*args, **kwargs):\n",
        "    args_value = ', '.join(str(arg) for arg in args) #we can write comprehension in iterable list .join provide iterable list\n",
        "    kwargs_value = ', '.join(f\"{key}={value}\" for key, value in kwargs.items())\n",
        "    print(f\"Calling {func.__name__}({args_value}, {kwargs_value})\")\n",
        "    result = func(*args, **kwargs)\n",
        "    print(f\"{func.__name__} returned {result}\")\n",
        "    return result\n",
        "  return wrapper\n",
        "\n",
        "@debug\n",
        "def add(a, b):\n",
        "  return a + b\n",
        "\n",
        "add(1, 2)\n",
        "\n"
      ]
    },
    {
      "cell_type": "code",
      "execution_count": null,
      "metadata": {
        "colab": {
          "base_uri": "https://localhost:8080/"
        },
        "id": "_RgQjtrKHu8f",
        "outputId": "feef52b5-f202-4d40-cee3-b70ca5961aeb"
      },
      "outputs": [
        {
          "name": "stdout",
          "output_type": "stream",
          "text": [
            "battery info\n",
            "engine info\n"
          ]
        }
      ],
      "source": [
        "class Battery:        #multiple inheritance example\n",
        "  def battery_info(self):\n",
        "    return \"battery info\"\n",
        "\n",
        "class Engine:\n",
        "  def engine_info(self):\n",
        "    return \"engine info\"\n",
        "\n",
        "class Car(Battery, Engine):\n",
        "  pass\n",
        "\n",
        "mycar = Car()\n",
        "print(mycar.battery_info())\n",
        "print(mycar.engine_info())\n"
      ]
    },
    {
      "cell_type": "code",
      "execution_count": null,
      "metadata": {
        "colab": {
          "base_uri": "https://localhost:8080/"
        },
        "id": "nFTzx5RabPyB",
        "outputId": "e9c72a17-5dc3-4a99-82b3-df730a3a4d25"
      },
      "outputs": [
        {
          "name": "stdout",
          "output_type": "stream",
          "text": [
            "Camry\n",
            "Toyota Camry\n",
            "Toyota\n",
            "Petrol\n",
            "car is a very important\n",
            "Model S\n",
            "Li-ion\n",
            "Petrol\n"
          ]
        }
      ],
      "source": [
        "class Car:\n",
        "  def __init__(self , brand , model): #self is same as this in javascript\n",
        "    self.__brand = brand                #__init__ is for constructor\n",
        "    self.model = model                # __brand means make it private variable\n",
        "\n",
        "  def get_brand(self):\n",
        "    return self.__brand\n",
        "\n",
        "  def name(self):\n",
        "    return f\"{self.__brand} {self.model}\"\n",
        "\n",
        "  def fueltype(self):                  # both class have same method (polymorphism)\n",
        "    return \"Petrol\"\n",
        "\n",
        "  @staticmethod                        #static method id directly acees with class name\n",
        "  def description():                   # object can not acees static method\n",
        "    return \"car is a very important\"\n",
        "\n",
        "\n",
        "class ElectricCar(Car):\n",
        "  def __init__(self , brand , model , battery_type):\n",
        "    super().__init__(brand , model)\n",
        "    self.battery_type = battery_type\n",
        "\n",
        "  def fueltype(self):\n",
        "    return \"Petrol\"\n",
        "\n",
        "my_car = Car(\"Toyota\" , \"Camry\")\n",
        "# print(my_car.brand) not accessible because we make brand private\n",
        "print(my_car.model)\n",
        "print(my_car.name())\n",
        "print(my_car.get_brand())\n",
        "print(my_car.fueltype())\n",
        "print(Car.description())\n",
        "\n",
        "my_electric_car = ElectricCar(\"Tesla\" , \"Model S\" , \"Li-ion\")\n",
        "# print(my_electric_car.brand)\n",
        "print(my_electric_car.model)\n",
        "print(my_electric_car.battery_type)\n",
        "print(my_electric_car.fueltype())\n"
      ]
    },
    {
      "cell_type": "code",
      "execution_count": null,
      "metadata": {
        "colab": {
          "base_uri": "https://localhost:8080/"
        },
        "id": "0Z7B3p1AXCMO",
        "outputId": "cb28e381-13c6-4b27-b113-8554577afc7b"
      },
      "outputs": [
        {
          "name": "stdout",
          "output_type": "stream",
          "text": [
            "125\n"
          ]
        }
      ],
      "source": [
        "def chai(num):\n",
        "  def actual(x):\n",
        "    return x**num\n",
        "  return actual  #now cube will be function cube() refrence tio actual def\n",
        "cube = chai(3)\n",
        "print(cube(5))"
      ]
    },
    {
      "cell_type": "code",
      "execution_count": null,
      "metadata": {
        "colab": {
          "base_uri": "https://localhost:8080/"
        },
        "id": "ojB-CYf13XzB",
        "outputId": "9357b2c8-51b5-441f-e1f3-697eb1e5c663"
      },
      "outputs": [
        {
          "name": "stdout",
          "output_type": "stream",
          "text": [
            "15\n",
            "9\n",
            "name jenil\n",
            "age 20\n",
            "2\n",
            "4\n",
            "6\n",
            "8\n",
            "10\n"
          ]
        }
      ],
      "source": [
        "def func(*args):\n",
        "  return sum(args)\n",
        "print(func(1,2,3,4,5))\n",
        "\n",
        "func = lambda x: x**2  #second defination for function with lambda\n",
        "print(func(3))\n",
        "\n",
        "def func(**kwargs):     #function with pass key word argument\n",
        "  for key,value in kwargs.items():\n",
        "    print(key,value)\n",
        "func(name=\"jenil\",age=20)\n",
        "\n",
        "\n",
        "def even_generate(limit):   #use case of yield instead of return (return give only one value 2)\n",
        "\tfor i in range(2,limit+1,2):\n",
        "\t\tyield i\n",
        "\n",
        "for num in even_generate(10):\n",
        "\tprint(num)\n",
        "\n"
      ]
    },
    {
      "cell_type": "code",
      "execution_count": null,
      "metadata": {
        "colab": {
          "base_uri": "https://localhost:8080/"
        },
        "id": "Le-CwoKkr-wF",
        "outputId": "908bbc0b-2a92-4cdf-d100-165af87d90e7"
      },
      "outputs": [
        {
          "name": "stdout",
          "output_type": "stream",
          "text": [
            "<list_iterator object at 0x7e0ab07571c0>\n",
            "1\n",
            "2\n",
            "3\n"
          ]
        }
      ],
      "source": [
        "mylist = [1,2,3,4,5]\n",
        "I = iter(mylist) # I is refer to first memory location\n",
        "print(I)\n",
        "print(I.__next__()) #__next__ is iterator\n",
        "print(I.__next__())\n",
        "print(I.__next__())"
      ]
    },
    {
      "cell_type": "code",
      "execution_count": null,
      "metadata": {
        "colab": {
          "base_uri": "https://localhost:8080/"
        },
        "id": "H6uNtJz3runc",
        "outputId": "1545828f-5716-46e2-a633-f4c74c0d4799"
      },
      "outputs": [
        {
          "name": "stdout",
          "output_type": "stream",
          "text": [
            "{1, 3, 5}\n"
          ]
        }
      ],
      "source": [
        "num = [1,2,3,2,4,5,4]\n",
        "unique = set()\n",
        "for i in num:\n",
        "    if num.count(i) == 1:\n",
        "        unique.add(i)\n",
        "print(unique)"
      ]
    },
    {
      "cell_type": "code",
      "execution_count": null,
      "metadata": {
        "colab": {
          "base_uri": "https://localhost:8080/"
        },
        "id": "cbJjtNAglgXt",
        "outputId": "0806e037-e820-45c1-9374-e71166b79183"
      },
      "outputs": [
        {
          "name": "stdout",
          "output_type": "stream",
          "text": [
            "Enter your age20\n",
            "You are an adult\n"
          ]
        }
      ],
      "source": [
        "user = input(\"Enter your age\")\n",
        "age = int(user)\n",
        "if age >= 18:\n",
        "    print(\"You are an adult\")\n",
        "elif age >= 13:\n",
        "    print(\"You are a teenager\")\n",
        "else:\n",
        "    print(\"You are a child\")\n",
        "\n",
        "age = 20 if age < 18 else 30\n",
        "print(age)\n"
      ]
    },
    {
      "cell_type": "code",
      "execution_count": null,
      "metadata": {
        "colab": {
          "base_uri": "https://localhost:8080/"
        },
        "id": "v1aIrxyvbXd-",
        "outputId": "a2b085da-4554-4c8c-f94c-c382ec59a440"
      },
      "outputs": [
        {
          "name": "stdout",
          "output_type": "stream",
          "text": [
            "[0, 1, 4, 9, 16, 25, 36, 49, 64, 81]\n",
            "{0: 0, 1: 1, 2: 4, 3: 9, 4: 16, 5: 25, 6: 36, 7: 49, 8: 64, 9: 81}\n"
          ]
        }
      ],
      "source": [
        "num = [x**2 for x in range(10)]\n",
        "print(num)\n",
        "\n",
        "dicti = {x:x**2 for x in range(10)}\n",
        "print(dicti)\n",
        "# num = [0,1,4,...81]"
      ]
    },
    {
      "cell_type": "code",
      "execution_count": null,
      "metadata": {
        "colab": {
          "base_uri": "https://localhost:8080/"
        },
        "id": "b1o8_KKUUFCV",
        "outputId": "63f51160-f8ff-463b-98db-435d4d2741c8"
      },
      "outputs": [
        {
          "data": {
            "text/plain": [
              "29"
            ]
          },
          "execution_count": 3,
          "metadata": {},
          "output_type": "execute_result"
        }
      ],
      "source": [
        "import math\n",
        "import random\n",
        "math.floor(2.8)\n",
        "math.floor(-2.7) #Always give lower value\n",
        "math.trunc(2.8)\n",
        "math.trunc(-2.7) #Alwasy give value which is close to 0\n",
        "random.randint(1,100)\n",
        "\n"
      ]
    },
    {
      "cell_type": "code",
      "execution_count": null,
      "metadata": {
        "colab": {
          "base_uri": "https://localhost:8080/"
        },
        "id": "E1d6zXDDIUQO",
        "outputId": "b94fb4d9-3c17-45a1-bdf5-825ae82ae761"
      },
      "outputs": [
        {
          "name": "stdout",
          "output_type": "stream",
          "text": [
            "[44, 2, 3, 4, 5]\n",
            "[44, 2, 3, 4, 5]\n",
            "[1, 2, 3, 4, 5]\n",
            "[44, 2, 3, 4, 5]\n"
          ]
        },
        {
          "data": {
            "text/plain": [
              "False"
            ]
          },
          "execution_count": 4,
          "metadata": {},
          "output_type": "execute_result"
        }
      ],
      "source": [
        "l1 = [1,2,3,4,5]\n",
        "l2 = l1\n",
        "l1[0] = 44\n",
        "print(l1)\n",
        "print(l2) #l2 is still same as l1 bcoz still l2 is refrence to l1 .\n",
        "\n",
        "l1 = [1,2,3,4,5]\n",
        "print(l1)\n",
        "print(l2) #l2 is not same as l1 bcoz we reassign l1 hence refrence is change (list is mutable so we can change its content and value)\n",
        "\n",
        "l1 is l2 #is operator check refrence is memory location"
      ]
    },
    {
      "cell_type": "code",
      "execution_count": null,
      "metadata": {
        "colab": {
          "base_uri": "https://localhost:8080/"
        },
        "id": "4L-7V3pJ3xpo",
        "outputId": "8674b802-d75b-4b59-8ecb-45ec5f1abbdc"
      },
      "outputs": [
        {
          "name": "stdout",
          "output_type": "stream",
          "text": [
            "John Doe (20 yrs, M) - Average Grade: 84.33\n",
            "Alice Smith (21 yrs, F) - Average Grade: 86.67\n",
            "Bob Johnson (22 yrs, M) - Average Grade: 75.67\n"
          ]
        }
      ],
      "source": [
        "# List of students\n",
        "students = [] #combination of tuple and dictionary\n",
        "\n",
        "# Add student 1\n",
        "student1_info = (\"John Doe\", \"M\", 20)  # tuple - immutable value\n",
        "student1_grades = {\"Math\": 85, \"Physics\": 90, \"History\": 78} #dictionary\n",
        "\n",
        "students.append( (student1_info, student1_grades) )\n",
        "\n",
        "# Add student 2\n",
        "student2_info = (\"Alice Smith\", \"F\", 21)\n",
        "student2_grades = {\"Math\": 92, \"Biology\": 88, \"History\": 80}\n",
        "\n",
        "students.append( (student2_info, student2_grades) )\n",
        "\n",
        "# Add student 3\n",
        "student3_info = (\"Bob Johnson\", \"M\", 22)\n",
        "student3_grades = {\"Physics\": 75, \"Chemistry\": 82, \"Math\": 70}\n",
        "\n",
        "students.append( (student3_info, student3_grades) )\n",
        "\n",
        "# Now: students is a list of tuples (personal info, grades)\n",
        "for student in students:\n",
        "    info, grades = student\n",
        "    name, gender, age = info\n",
        "    avg_grade = sum(grades.values()) / len(grades)\n",
        "    print(f\"{name} ({age} yrs, {gender}) - Average Grade: {avg_grade:.2f}\")\n"
      ]
    },
    {
      "cell_type": "code",
      "execution_count": null,
      "metadata": {
        "colab": {
          "base_uri": "https://localhost:8080/"
        },
        "id": "JAwt5Hk0XSK4",
        "outputId": "543ff569-fc2c-4d7b-92b4-72e78f526b53"
      },
      "outputs": [
        {
          "name": "stdout",
          "output_type": "stream",
          "text": [
            "Hello world\n",
            "jenil\n"
          ]
        }
      ],
      "source": [
        "print(\"Haloo world\")\n",
        " def chai(n):\n",
        "    print(n)\n",
        "\n",
        "chai(\"jenil\")"
      ]
    }
  ],
  "metadata": {
    "colab": {
      "provenance": [],
      "authorship_tag": "ABX9TyPdf7UZFwzJ1mxpekT3/8tC",
      "include_colab_link": true
    },
    "kernelspec": {
      "display_name": "Python 3",
      "name": "python3"
    },
    "language_info": {
      "name": "python"
    }
  },
  "nbformat": 4,
  "nbformat_minor": 0
}